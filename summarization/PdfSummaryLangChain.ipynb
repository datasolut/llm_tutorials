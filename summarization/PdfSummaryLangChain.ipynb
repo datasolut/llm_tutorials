{
 "cells": [
  {
   "cell_type": "code",
   "execution_count": null,
   "id": "993a7077-73c5-42fa-94d5-52123f35fd4d",
   "metadata": {},
   "outputs": [],
   "source": [
    "#pip install openai tiktoken chromadb langchain"
   ]
  },
  {
   "cell_type": "markdown",
   "id": "dca0f447-9309-4d63-8471-7965bc82b15e",
   "metadata": {},
   "source": [
    "Stuff"
   ]
  },
  {
   "cell_type": "code",
   "execution_count": 4,
   "id": "2602e3a2-bb28-43c2-8635-be05611e7db5",
   "metadata": {},
   "outputs": [
    {
     "name": "stdout",
     "output_type": "stream",
     "text": [
      "Die Computerlinguistik untersucht, wie natürliche Sprache mithilfe von Computern algorithmisch verarbeitet werden kann. Sie ist eine Schnittstelle zwischen Sprachwissenschaft und Informatik und befasst sich mit der Darstellung, Erkennung und Erzeugung von gesprochener und geschriebener Sprache. Die Funktionsweise der Computerlinguistik umfasst verschiedene Techniken wie statistische Dateninterpretation, maschinelles Lernen und algorithmische Ansätze. Anwendungen in der Praxis umfassen die Unterstützung bei der Textverarbeitung, die Informationssuche, die maschinelle Übersetzung, die Spracherkennung und -synthese sowie die Generierung von natürlichsprachlichen Texten. Die Computerlinguistik wird an verschiedenen Universitäten als eigenständiger Studiengang angeboten und es gibt verschiedene Tagungen und Organisationen in diesem Bereich.\n"
     ]
    }
   ],
   "source": [
    "from langchain.chains.llm import LLMChain\n",
    "from langchain.prompts import PromptTemplate\n",
    "from langchain.chains.combine_documents.stuff import StuffDocumentsChain\n",
    "from langchain.chat_models import ChatOpenAI\n",
    "from langchain.document_loaders import WebBaseLoader\n",
    "\n",
    "#Lade LLM\n",
    "llm = ChatOpenAI(temperature=0, model_name=\"gpt-3.5-turbo-16k\")\n",
    "\n",
    "#Lade Text zum ZUsammenfassen. Hier: der Wikipedia-Artikel über \"Computerlinguistik\"\n",
    "loader = WebBaseLoader(\"https://de.wikipedia.org/wiki/Computerlinguistik\")\n",
    "docs = loader.load()\n",
    "\n",
    "# Define Prompt, der angbit dass das LLM eine Zusammenfassung auf Deutsch schreiben soll.\n",
    "prompt_template = \"\"\"\n",
    "Write a concise German summary of the following text:\n",
    "\"{text}\"\n",
    "CONCISE SUMMARY:\n",
    "\"\"\"\n",
    "prompt = PromptTemplate.from_template(prompt_template)\n",
    "\n",
    "\n",
    "#Definiere LLM chain\n",
    "llm_chain = LLMChain(llm=llm, prompt=prompt)\n",
    "stuff_chain = StuffDocumentsChain(llm_chain=llm_chain, document_variable_name=\"text\")\n",
    "\n",
    "print(stuff_chain.run(docs))"
   ]
  }
 ],
 "metadata": {
  "kernelspec": {
   "display_name": ".venv",
   "language": "python",
   "name": ".venv"
  },
  "language_info": {
   "codemirror_mode": {
    "name": "ipython",
    "version": 3
   },
   "file_extension": ".py",
   "mimetype": "text/x-python",
   "name": "python",
   "nbconvert_exporter": "python",
   "pygments_lexer": "ipython3",
   "version": "3.9.6"
  }
 },
 "nbformat": 4,
 "nbformat_minor": 5
}
