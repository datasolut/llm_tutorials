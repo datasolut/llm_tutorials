{
 "cells": [
  {
   "cell_type": "markdown",
   "id": "01da62ae-18d3-4f6d-910f-60aaac67ad01",
   "metadata": {},
   "source": [
    "QA with context"
   ]
  },
  {
   "cell_type": "code",
   "execution_count": 12,
   "id": "814ae49e-a028-4f0c-badd-423ee3c51cff",
   "metadata": {},
   "outputs": [],
   "source": [
    "from langchain.document_loaders import WebBaseLoader,PyPDFLoader,CSVLoader\n",
    "from langchain.text_splitter import RecursiveCharacterTextSplitter\n",
    "from langchain.embeddings import OpenAIEmbeddings\n",
    "from langchain.vectorstores import Chroma\n",
    "from langchain.chains import RetrievalQA\n",
    "from langchain.chat_models import ChatOpenAI\n",
    "\n",
    "llm      = ChatOpenAI(model_name=\"gpt-3.5-turbo\", temperature=0.1)   #Lade OpenAIs GPT-3.5 Turbo"
   ]
  },
  {
   "cell_type": "code",
   "execution_count": 14,
   "id": "1ac5668c-514c-4da2-9bbe-cefba37c75cc",
   "metadata": {},
   "outputs": [
    {
     "data": {
      "text/plain": [
       "{'query': 'In welchen Regionen liegen die verschiedenen Achttausender?',\n",
       " 'result': 'Die verschiedenen Achttausender liegen hauptsächlich im Himalaya-Gebirge, das sich über Nepal, Tibet (China), Indien und Bhutan erstreckt. Einige Achttausender befinden sich auch im Karakorum-Gebirge, das sich zwischen Pakistan, China und Indien erstreckt.'}"
      ]
     },
     "execution_count": 14,
     "metadata": {},
     "output_type": "execute_result"
    }
   ],
   "source": [
    "from langchain.document_loaders import WebBaseLoader,PyPDFLoader,CSVLoader\n",
    "from langchain.text_splitter import RecursiveCharacterTextSplitter\n",
    "from langchain.embeddings import OpenAIEmbeddings\n",
    "from langchain.vectorstores import Chroma\n",
    "from langchain.chains import RetrievalQA\n",
    "from langchain.chat_models import ChatOpenAI\n",
    "\n",
    "llm      = ChatOpenAI(model_name=\"gpt-3.5-turbo\", temperature=0.1)   #Lade OpenAIs GPT-3.5 Turbo\n",
    "\n",
    "\n",
    "########## Fragen zu Artikel aus Wikipedia beantworten. Beispiel: Achtausender Berge\n",
    "loader = WebBaseLoader(\"https://de.wikipedia.org/wiki/Achttausender\")  #Lade den Artikel über Achtausender\n",
    "data   = loader.load()\n",
    "\n",
    "#Splitte Dokumente und übergebe in den Vector Store\n",
    "text_splitter = RecursiveCharacterTextSplitter(chunk_size = 500, chunk_overlap = 500)\n",
    "all_splits    = text_splitter.split_documents(data)\n",
    "vectorstore   = Chroma.from_documents(documents=all_splits, embedding=OpenAIEmbeddings())\n",
    "\n",
    "#Schreibe Prompt und beantworte Frage über Vector Store\n",
    "question = \"In welchen Regionen liegen die verschiedenen Achttausender?\"\n",
    "docs     = vectorstore_A.similarity_search(question)\n",
    "\n",
    "#Gebe Antwort in natürlicher Sprache zurück.\n",
    "qa_chain = RetrievalQA.from_chain_type(llm, retriever=vectorstore_A.as_retriever())\n",
    "qa_chain({\"query\": question})"
   ]
  }
 ],
 "metadata": {
  "kernelspec": {
   "display_name": ".venv",
   "language": "python",
   "name": ".venv"
  },
  "language_info": {
   "codemirror_mode": {
    "name": "ipython",
    "version": 3
   },
   "file_extension": ".py",
   "mimetype": "text/x-python",
   "name": "python",
   "nbconvert_exporter": "python",
   "pygments_lexer": "ipython3",
   "version": "3.9.6"
  }
 },
 "nbformat": 4,
 "nbformat_minor": 5
}
